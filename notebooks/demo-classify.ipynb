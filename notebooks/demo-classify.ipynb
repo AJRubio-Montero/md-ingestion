{
 "cells": [
  {
   "cell_type": "markdown",
   "id": "5090cf7a-f6ad-4fda-8586-fa127e9aecc6",
   "metadata": {},
   "source": [
    "# Classify disciplines\n",
    "\n",
    "https://networkx.org/documentation/stable/index.html"
   ]
  },
  {
   "cell_type": "code",
   "execution_count": 1,
   "id": "8310a5f1-f454-4e1f-83fd-c04bda4dd0d9",
   "metadata": {},
   "outputs": [],
   "source": [
    "import json\n",
    "import Levenshtein as lvs\n",
    "import networkx as nx"
   ]
  },
  {
   "cell_type": "code",
   "execution_count": 2,
   "id": "7892db02-5ad1-4c05-9f29-69637823976f",
   "metadata": {},
   "outputs": [
    {
     "data": {
      "text/plain": [
       "336"
      ]
     },
     "execution_count": 2,
     "metadata": {},
     "output_type": "execute_result"
    }
   ],
   "source": [
    "doc = json.load(fp=open(\"../etc/b2find_disciplines.json\"))\n",
    "len(doc[\"disciplines\"])"
   ]
  },
  {
   "cell_type": "code",
   "execution_count": 3,
   "id": "20623991-da52-4ae7-b6f7-ab475ad56cca",
   "metadata": {},
   "outputs": [
    {
     "data": {
      "text/plain": [
       "340"
      ]
     },
     "execution_count": 3,
     "metadata": {},
     "output_type": "execute_result"
    }
   ],
   "source": [
    "disc_graph = nx.DiGraph()\n",
    "for value in doc[\"disciplines\"]:\n",
    "    parts = value.split(\"#\")\n",
    "    if len(parts) != 3:\n",
    "        continue\n",
    "    nodes = [node.strip() for node in parts]\n",
    "    start = nodes[1]\n",
    "    end = nodes[2]\n",
    "    if start != end:\n",
    "        disc_graph.add_edge(start, end)\n",
    "disc_graph.number_of_nodes()"
   ]
  },
  {
   "cell_type": "code",
   "execution_count": 4,
   "id": "4aa415f7-d7ce-41eb-a802-31ff735d9c25",
   "metadata": {},
   "outputs": [],
   "source": [
    "def classify(text):\n",
    "    for node in disc_graph.nodes:\n",
    "        similarity = lvs.ratio(text.lower(), node.lower())\n",
    "        if similarity >= 0.9:\n",
    "            print(node, similarity, list(nx.ancestors(disc_graph, node)), \n",
    "                  disc_graph.in_degree(node), disc_graph.out_degree(node))"
   ]
  },
  {
   "cell_type": "code",
   "execution_count": 5,
   "id": "b06031bf-601d-4d1c-afbd-ad893243e1b9",
   "metadata": {},
   "outputs": [
    {
     "name": "stdout",
     "output_type": "stream",
     "text": [
      "Astrophysics and Astronomy 1.0 ['Natural Sciences', 'Physics'] 1 11\n"
     ]
    }
   ],
   "source": [
    "classify(\"astrophysics and astronomy\")"
   ]
  },
  {
   "cell_type": "code",
   "execution_count": 6,
   "id": "b7756bbc-5ff3-4e53-90a8-0c2249ff1dda",
   "metadata": {},
   "outputs": [
    {
     "name": "stdout",
     "output_type": "stream",
     "text": [
      "Physics 1.0 ['Natural Sciences'] 1 6\n"
     ]
    }
   ],
   "source": [
    "classify(\"physics\")"
   ]
  },
  {
   "cell_type": "code",
   "execution_count": 7,
   "id": "f5d16fdb-5fd3-4c93-8ab9-e1a52549030f",
   "metadata": {},
   "outputs": [
    {
     "name": "stdout",
     "output_type": "stream",
     "text": [
      "Information Science 1.0 ['Computer Science', 'Computer Science, Electrical and System Engineering', 'Engineering Sciences'] 1 0\n"
     ]
    }
   ],
   "source": [
    "classify(\"information science\")"
   ]
  },
  {
   "cell_type": "code",
   "execution_count": 8,
   "id": "6068d192-229a-49eb-9bde-c5439eb9ff14",
   "metadata": {},
   "outputs": [
    {
     "name": "stdout",
     "output_type": "stream",
     "text": [
      "Information Science 0.9444444444444444 ['Computer Science', 'Computer Science, Electrical and System Engineering', 'Engineering Sciences'] 1 0\n"
     ]
    }
   ],
   "source": [
    "classify(\"infrmation scince\")"
   ]
  },
  {
   "cell_type": "code",
   "execution_count": 9,
   "id": "7d98014a-a93c-43a9-b1d6-f6845640acad",
   "metadata": {},
   "outputs": [
    {
     "name": "stdout",
     "output_type": "stream",
     "text": [
      "Engineering 1.0 ['Engineering Sciences', 'Construction Engineering and Architecture'] 1 0\n"
     ]
    }
   ],
   "source": [
    "classify(\"Engineering\")"
   ]
  },
  {
   "cell_type": "code",
   "execution_count": 10,
   "id": "d2ee808b-fcaa-4d5b-accd-77df824049ae",
   "metadata": {},
   "outputs": [
    {
     "name": "stdout",
     "output_type": "stream",
     "text": [
      "Computer Science 1.0 ['Computer Science, Electrical and System Engineering', 'Engineering Sciences'] 1 7\n"
     ]
    }
   ],
   "source": [
    "classify(\"Computer Science\")"
   ]
  },
  {
   "cell_type": "code",
   "execution_count": 11,
   "id": "22ce9298-ac92-44b5-b1f2-4d7c61b1da2b",
   "metadata": {},
   "outputs": [
    {
     "name": "stdout",
     "output_type": "stream",
     "text": [
      "Natural Sciences 1.0 [] 0 4\n"
     ]
    }
   ],
   "source": [
    "classify(\"Natural Sciences\")"
   ]
  },
  {
   "cell_type": "code",
   "execution_count": 12,
   "id": "6f209392-bd4a-4d0d-a025-43336b39f205",
   "metadata": {},
   "outputs": [
    {
     "data": {
      "text/plain": [
       "[('Natural Sciences', ['Chemistry', 'Physics', 'Mathematics', 'Geosciences'])]"
      ]
     },
     "execution_count": 12,
     "metadata": {},
     "output_type": "execute_result"
    }
   ],
   "source": [
    "list(nx.bfs_successors(disc_graph, \"Natural Sciences\", 1))"
   ]
  },
  {
   "cell_type": "code",
   "execution_count": 13,
   "id": "8d31285f-c141-4421-bdb5-567dae239e9b",
   "metadata": {},
   "outputs": [
    {
     "data": {
      "text/plain": [
       "['Natural Sciences']"
      ]
     },
     "execution_count": 13,
     "metadata": {},
     "output_type": "execute_result"
    }
   ],
   "source": [
    "list(nx.ancestors(disc_graph, \"Mathematics\"))"
   ]
  },
  {
   "cell_type": "markdown",
   "id": "bc433e14-60ce-4b8f-bc4b-c63cae474c90",
   "metadata": {},
   "source": [
    "## Root nodes"
   ]
  },
  {
   "cell_type": "code",
   "execution_count": 14,
   "id": "e10825fd-dfcb-495b-ba69-9424f16068b9",
   "metadata": {},
   "outputs": [
    {
     "name": "stdout",
     "output_type": "stream",
     "text": [
      "Humanities\n",
      "Social and Behavioural Sciences\n",
      "Life Sciences\n",
      "Zoology\n",
      "Agriculture, Forestry, Horticulture, Aquaculture and Veterinary Medicine\n",
      "Agriculture, Forestry, Horticulture, Aquaculture\n",
      "Natural Sciences\n",
      "Geospheric Science\n",
      "Engineering Sciences\n",
      "Process Engineering, Technical\n"
     ]
    }
   ],
   "source": [
    "for node in disc_graph.nodes:\n",
    "    degree = disc_graph.in_degree(node)\n",
    "    if degree == 0:\n",
    "        print(node)"
   ]
  },
  {
   "cell_type": "code",
   "execution_count": 15,
   "id": "035a993f-30e8-45d2-8fb4-cf473f13664a",
   "metadata": {},
   "outputs": [
    {
     "name": "stdout",
     "output_type": "stream",
     "text": [
      "Humanities\n",
      "['Ancient Cultures', 'History', 'Fine Arts, Music, Theatre and Media Studies', 'Linguistics', 'Literary Studies', 'Social and Cultural Anthropology', 'Theology and Religion Studies', 'Philosophy']\n",
      "\n",
      "Social and Behavioural Sciences\n",
      "['Education Sciences', 'Psychology', 'Social Sciences', 'Economics', 'Jurisprudence']\n",
      "\n",
      "Life Sciences\n",
      "['Biology', 'Plant Sciences', 'Medicine', 'Agriculture, Forestry, Horticulture and Veterinary Medicine']\n",
      "\n",
      "Zoology\n",
      "['Systematics and Morphology', 'Evolution, Anthropology', 'Animal Ecology, Biodiversity and Ecosystem Research', 'Sensory and Behavioural Biology', 'Biochemistry and Animal Physiology', 'Animal Genetics, Cell and Developmental Biology']\n",
      "\n",
      "Agriculture, Forestry, Horticulture, Aquaculture and Veterinary Medicine\n",
      "['Agriculture, Forestry, Horticulture', 'Veterinary Medicine']\n",
      "\n",
      "Agriculture, Forestry, Horticulture, Aquaculture\n",
      "['Soil Sciences', 'Plant Cultivation', 'Plant Nutrition', 'Ecology of Agricultural Landscapes', 'Plant Breeding', 'Phytomedicine', 'Agricultural and Food Process Engineering', 'Agricultural Economics and Sociology', 'Forestry', 'Silviculture', 'Agricultural Sciences', 'Farming Systems', 'Aquaculture', 'Food Safety']\n",
      "\n",
      "Natural Sciences\n",
      "['Chemistry', 'Physics', 'Mathematics', 'Geosciences']\n",
      "\n",
      "Geospheric Science\n",
      "['Geology', 'Geography', 'Geochemistry/Mineralogy and Crystallography/Petrology', 'Geophysics/Seismology', 'Geodesy, Geoinformatics and Remote Sensing', 'Glaciology', 'Volcanology']\n",
      "\n",
      "Engineering Sciences\n",
      "['Engineering Science', 'Mechanical and industrial Engineering', 'Thermal Engineering/Process Engineering', 'Materials Science and Engineering', 'Computer Science, Electrical and System Engineering', 'Construction Engineering and Architecture']\n",
      "\n",
      "Process Engineering, Technical\n",
      "['ChemistryChemical and Thermal Process Engineering', 'Technical Chemistry', 'Mechanical Process Engineering', 'Biological Process Engineering']\n",
      "\n"
     ]
    }
   ],
   "source": [
    "for node in disc_graph.nodes:\n",
    "    degree = len(list(nx.ancestors(disc_graph, node)))\n",
    "    if degree == 0:\n",
    "        print(node)\n",
    "        print(list(disc_graph.successors(node)))\n",
    "        print()"
   ]
  },
  {
   "cell_type": "markdown",
   "id": "25da95dd-11db-46e8-9ade-f23d3e36128f",
   "metadata": {},
   "source": [
    "## Leaf nodes"
   ]
  },
  {
   "cell_type": "code",
   "execution_count": 16,
   "id": "cc9bd815-39c4-4b86-bc5c-c075fe465fd4",
   "metadata": {},
   "outputs": [
    {
     "data": {
      "text/plain": [
       "280"
      ]
     },
     "execution_count": 16,
     "metadata": {},
     "output_type": "execute_result"
    }
   ],
   "source": [
    "leafs = []\n",
    "for node in disc_graph.nodes:\n",
    "    degree = disc_graph.out_degree(node)\n",
    "    if degree == 0:\n",
    "        # print(node)\n",
    "        leafs.append(node)\n",
    "len(leafs)"
   ]
  }
 ],
 "metadata": {
  "kernelspec": {
   "display_name": "Python 3 (ipykernel)",
   "language": "python",
   "name": "python3"
  },
  "language_info": {
   "codemirror_mode": {
    "name": "ipython",
    "version": 3
   },
   "file_extension": ".py",
   "mimetype": "text/x-python",
   "name": "python",
   "nbconvert_exporter": "python",
   "pygments_lexer": "ipython3",
   "version": "3.8.13"
  }
 },
 "nbformat": 4,
 "nbformat_minor": 5
}
