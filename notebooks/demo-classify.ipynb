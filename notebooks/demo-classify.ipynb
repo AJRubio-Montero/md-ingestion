{
 "cells": [
  {
   "cell_type": "code",
   "execution_count": 1,
   "id": "dcb9888e-8be4-4251-afc4-b9201aa9e547",
   "metadata": {},
   "outputs": [],
   "source": [
    "import json\n",
    "import Levenshtein as lvs"
   ]
  },
  {
   "cell_type": "code",
   "execution_count": 2,
   "id": "7892db02-5ad1-4c05-9f29-69637823976f",
   "metadata": {},
   "outputs": [
    {
     "data": {
      "text/plain": [
       "336"
      ]
     },
     "execution_count": 2,
     "metadata": {},
     "output_type": "execute_result"
    }
   ],
   "source": [
    "doc = json.load(fp=open(\"../etc/b2find_disciplines.json\"))\n",
    "len(doc[\"disciplines\"])"
   ]
  },
  {
   "cell_type": "code",
   "execution_count": 3,
   "id": "20623991-da52-4ae7-b6f7-ab475ad56cca",
   "metadata": {},
   "outputs": [
    {
     "data": {
      "text/plain": [
       "335"
      ]
     },
     "execution_count": 3,
     "metadata": {},
     "output_type": "execute_result"
    }
   ],
   "source": [
    "discs = {}\n",
    "for value in doc[\"disciplines\"]:\n",
    "    parts = value.split(\"#\")\n",
    "    if len(parts) < 3:\n",
    "        continue\n",
    "    key = parts[2].strip()\n",
    "    discs[key] = value\n",
    "len(discs.keys())"
   ]
  },
  {
   "cell_type": "code",
   "execution_count": 4,
   "id": "ca477163-45ea-4f36-bff6-bdc5bf1ec578",
   "metadata": {},
   "outputs": [],
   "source": [
    "# discs"
   ]
  },
  {
   "cell_type": "code",
   "execution_count": 5,
   "id": "4aa415f7-d7ce-41eb-a802-31ff735d9c25",
   "metadata": {},
   "outputs": [],
   "source": [
    "def classify(text):\n",
    "    for disc in discs:\n",
    "        similarity = lvs.ratio(text.lower(), disc.lower())\n",
    "        if similarity >= 0.9:\n",
    "            print(disc, similarity)"
   ]
  },
  {
   "cell_type": "code",
   "execution_count": 6,
   "id": "b06031bf-601d-4d1c-afbd-ad893243e1b9",
   "metadata": {},
   "outputs": [
    {
     "name": "stdout",
     "output_type": "stream",
     "text": [
      "Astrophysics and Astronomy 1.0\n"
     ]
    }
   ],
   "source": [
    "classify(\"astrophysics and astronomy\")"
   ]
  },
  {
   "cell_type": "code",
   "execution_count": 7,
   "id": "b7756bbc-5ff3-4e53-90a8-0c2249ff1dda",
   "metadata": {},
   "outputs": [
    {
     "name": "stdout",
     "output_type": "stream",
     "text": [
      "Physics 1.0\n"
     ]
    }
   ],
   "source": [
    "classify(\"physics\")"
   ]
  },
  {
   "cell_type": "code",
   "execution_count": 8,
   "id": "f5d16fdb-5fd3-4c93-8ab9-e1a52549030f",
   "metadata": {},
   "outputs": [
    {
     "name": "stdout",
     "output_type": "stream",
     "text": [
      "Information Science 1.0\n"
     ]
    }
   ],
   "source": [
    "classify(\"information science\")"
   ]
  },
  {
   "cell_type": "code",
   "execution_count": 9,
   "id": "7d98014a-a93c-43a9-b1d6-f6845640acad",
   "metadata": {},
   "outputs": [
    {
     "name": "stdout",
     "output_type": "stream",
     "text": [
      "Engineering 1.0\n"
     ]
    }
   ],
   "source": [
    "classify(\"Engineering\")"
   ]
  }
 ],
 "metadata": {
  "kernelspec": {
   "display_name": "Python 3 (ipykernel)",
   "language": "python",
   "name": "python3"
  },
  "language_info": {
   "codemirror_mode": {
    "name": "ipython",
    "version": 3
   },
   "file_extension": ".py",
   "mimetype": "text/x-python",
   "name": "python",
   "nbconvert_exporter": "python",
   "pygments_lexer": "ipython3",
   "version": "3.8.13"
  }
 },
 "nbformat": 4,
 "nbformat_minor": 5
}
