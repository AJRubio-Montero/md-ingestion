{
 "cells": [
  {
   "cell_type": "code",
   "execution_count": 1,
   "id": "adverse-adult",
   "metadata": {},
   "outputs": [],
   "source": [
    "import pandas as pd"
   ]
  },
  {
   "cell_type": "code",
   "execution_count": 2,
   "id": "genuine-salem",
   "metadata": {},
   "outputs": [
    {
     "data": {
      "text/html": [
       "<div>\n",
       "<style scoped>\n",
       "    .dataframe tbody tr th:only-of-type {\n",
       "        vertical-align: middle;\n",
       "    }\n",
       "\n",
       "    .dataframe tbody tr th {\n",
       "        vertical-align: top;\n",
       "    }\n",
       "\n",
       "    .dataframe thead th {\n",
       "        text-align: right;\n",
       "    }\n",
       "</style>\n",
       "<table border=\"1\" class=\"dataframe\">\n",
       "  <thead>\n",
       "    <tr style=\"text-align: right;\">\n",
       "      <th></th>\n",
       "      <th>da</th>\n",
       "      <th>en</th>\n",
       "      <th>no</th>\n",
       "    </tr>\n",
       "  </thead>\n",
       "  <tbody>\n",
       "    <tr>\n",
       "      <th>0</th>\n",
       "      <td>Begravelse</td>\n",
       "      <td>Funerary</td>\n",
       "      <td>Gravminne</td>\n",
       "    </tr>\n",
       "    <tr>\n",
       "      <th>1</th>\n",
       "      <td>Bosættelse</td>\n",
       "      <td>Settlement</td>\n",
       "      <td>Bolig/bosetning</td>\n",
       "    </tr>\n",
       "    <tr>\n",
       "      <th>2</th>\n",
       "      <td>Diverse anlæg og genstande</td>\n",
       "      <td>Diverse features and objects</td>\n",
       "      <td>Funksjon uspesifisert</td>\n",
       "    </tr>\n",
       "    <tr>\n",
       "      <th>3</th>\n",
       "      <td>Transport</td>\n",
       "      <td>Transport</td>\n",
       "      <td>Ferdsel/samferdsel</td>\n",
       "    </tr>\n",
       "    <tr>\n",
       "      <th>4</th>\n",
       "      <td>Primær subsistens</td>\n",
       "      <td>Primary subsistence</td>\n",
       "      <td>Landbruk</td>\n",
       "    </tr>\n",
       "    <tr>\n",
       "      <th>...</th>\n",
       "      <td>...</td>\n",
       "      <td>...</td>\n",
       "      <td>...</td>\n",
       "    </tr>\n",
       "    <tr>\n",
       "      <th>590</th>\n",
       "      <td>Vandingsanlæg</td>\n",
       "      <td>Irrigation</td>\n",
       "      <td>Vannforsyningsanlegg</td>\n",
       "    </tr>\n",
       "    <tr>\n",
       "      <th>591</th>\n",
       "      <td>NaN</td>\n",
       "      <td>Water purification</td>\n",
       "      <td>Vannrensingsanlegg</td>\n",
       "    </tr>\n",
       "    <tr>\n",
       "      <th>592</th>\n",
       "      <td>Vej</td>\n",
       "      <td>Road</td>\n",
       "      <td>Veganlegg</td>\n",
       "    </tr>\n",
       "    <tr>\n",
       "      <th>593</th>\n",
       "      <td>NaN</td>\n",
       "      <td>Road station</td>\n",
       "      <td>Vegstasjon</td>\n",
       "    </tr>\n",
       "    <tr>\n",
       "      <th>594</th>\n",
       "      <td>Båd-/skibsværft</td>\n",
       "      <td>Shipyard / Boatyard</td>\n",
       "      <td>Verft</td>\n",
       "    </tr>\n",
       "  </tbody>\n",
       "</table>\n",
       "<p>595 rows × 3 columns</p>\n",
       "</div>"
      ],
      "text/plain": [
       "                             da                            en  \\\n",
       "0                    Begravelse                      Funerary   \n",
       "1                    Bosættelse                    Settlement   \n",
       "2    Diverse anlæg og genstande  Diverse features and objects   \n",
       "3                     Transport                     Transport   \n",
       "4             Primær subsistens           Primary subsistence   \n",
       "..                          ...                           ...   \n",
       "590               Vandingsanlæg                    Irrigation   \n",
       "591                         NaN            Water purification   \n",
       "592                         Vej                          Road   \n",
       "593                         NaN                  Road station   \n",
       "594             Båd-/skibsværft           Shipyard / Boatyard   \n",
       "\n",
       "                        no  \n",
       "0                Gravminne  \n",
       "1          Bolig/bosetning  \n",
       "2    Funksjon uspesifisert  \n",
       "3       Ferdsel/samferdsel  \n",
       "4                 Landbruk  \n",
       "..                     ...  \n",
       "590   Vannforsyningsanlegg  \n",
       "591     Vannrensingsanlegg  \n",
       "592              Veganlegg  \n",
       "593             Vegstasjon  \n",
       "594                  Verft  \n",
       "\n",
       "[595 rows x 3 columns]"
      ]
     },
     "execution_count": 2,
     "metadata": {},
     "output_type": "execute_result"
    }
   ],
   "source": [
    "df = pd.read_csv('../etc/Community/NORDICAR_MappingKeywords.csv', sep = ';', encoding='ISO-8859-1')\n",
    "df"
   ]
  },
  {
   "cell_type": "code",
   "execution_count": 3,
   "id": "large-reduction",
   "metadata": {},
   "outputs": [
    {
     "data": {
      "text/html": [
       "<div>\n",
       "<style scoped>\n",
       "    .dataframe tbody tr th:only-of-type {\n",
       "        vertical-align: middle;\n",
       "    }\n",
       "\n",
       "    .dataframe tbody tr th {\n",
       "        vertical-align: top;\n",
       "    }\n",
       "\n",
       "    .dataframe thead th {\n",
       "        text-align: right;\n",
       "    }\n",
       "</style>\n",
       "<table border=\"1\" class=\"dataframe\">\n",
       "  <thead>\n",
       "    <tr style=\"text-align: right;\">\n",
       "      <th></th>\n",
       "      <th>da</th>\n",
       "      <th>en</th>\n",
       "      <th>no</th>\n",
       "    </tr>\n",
       "  </thead>\n",
       "  <tbody>\n",
       "    <tr>\n",
       "      <th>1</th>\n",
       "      <td>Bosættelse</td>\n",
       "      <td>Settlement</td>\n",
       "      <td>Bolig/bosetning</td>\n",
       "    </tr>\n",
       "  </tbody>\n",
       "</table>\n",
       "</div>"
      ],
      "text/plain": [
       "           da          en               no\n",
       "1  Bosættelse  Settlement  Bolig/bosetning"
      ]
     },
     "execution_count": 3,
     "metadata": {},
     "output_type": "execute_result"
    }
   ],
   "source": [
    "result = df.loc[df.da == 'Bosættelse']\n",
    "result"
   ]
  },
  {
   "cell_type": "code",
   "execution_count": 4,
   "id": "9bc60c51-e9f2-4b27-bd32-11979333000b",
   "metadata": {},
   "outputs": [
    {
     "data": {
      "text/plain": [
       "['Bosættelse', 'Settlement', 'Bolig/bosetning']"
      ]
     },
     "execution_count": 4,
     "metadata": {},
     "output_type": "execute_result"
    }
   ],
   "source": [
    "result.values[0].tolist()"
   ]
  }
 ],
 "metadata": {
  "kernelspec": {
   "display_name": "Python 3 (ipykernel)",
   "language": "python",
   "name": "python3"
  },
  "language_info": {
   "codemirror_mode": {
    "name": "ipython",
    "version": 3
   },
   "file_extension": ".py",
   "mimetype": "text/x-python",
   "name": "python",
   "nbconvert_exporter": "python",
   "pygments_lexer": "ipython3",
   "version": "3.8.12"
  }
 },
 "nbformat": 4,
 "nbformat_minor": 5
}
